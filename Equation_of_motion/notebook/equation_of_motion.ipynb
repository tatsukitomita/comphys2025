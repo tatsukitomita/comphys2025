{
 "cells": [
  {
   "cell_type": "code",
   "execution_count": null,
   "id": "5f477775",
   "metadata": {},
   "outputs": [],
   "source": [
    "using Revise"
   ]
  },
  {
   "cell_type": "code",
   "execution_count": null,
   "id": "5676d547",
   "metadata": {},
   "outputs": [],
   "source": [
    "tmax = 10.0\n",
    "numtimes = 1000\n",
    "h = tmax/numtimes"
   ]
  },
  {
   "cell_type": "code",
   "execution_count": null,
   "id": "06581f61",
   "metadata": {},
   "outputs": [],
   "source": [
    "function solve_x(v, x, tmax, numtimes)\n",
    "    h = tmax/numtimes\n",
    "    x1 = x\n",
    "    #derive_x(t) = v0\n",
    "    #results = Vector{Float64}(undef, numtimes+1)\n",
    "    x2 = x1 + h * v\n",
    "    return x2\n",
    "end"
   ]
  },
  {
   "cell_type": "code",
   "execution_count": null,
   "id": "5e61f812",
   "metadata": {},
   "outputs": [],
   "source": [
    "function solve_v(v, x, tmax, numtimes,F::function)\n",
    "   v1 = v\n",
    "   #deriv_vt(t,x) = F(t,x)\n",
    "   next_vt(h,x) = v1 + h * F(x)\n",
    "   v2 = v1 + next_vt(h,x)\n",
    "   return v2\n",
    "end"
   ]
  },
  {
   "cell_type": "code",
   "execution_count": null,
   "id": "a322dfa9",
   "metadata": {},
   "outputs": [],
   "source": [
    "function solve_system(v, x, tmax, numtimes, F::function)\n",
    "    h = tmax/numtimes\n",
    "    x1 = x\n",
    "    v1 = v\n",
    "    for i in 1:numtimes\n",
    "        x2 = solve_x(v1, x1, tmax, numtimes)\n",
    "        v2 = solve_v(v1, x2, tmax, numtimes, F)\n",
    "        x1 = x2\n",
    "        v1 = v2\n",
    "    end\n",
    "    return (x1, v1)\n",
    "end"
   ]
  }
 ],
 "metadata": {
  "kernelspec": {
   "display_name": "Julia 1.10.4",
   "language": "julia",
   "name": "julia-1.10"
  },
  "language_info": {
   "file_extension": ".jl",
   "mimetype": "application/julia",
   "name": "julia",
   "version": "1.10.4"
  }
 },
 "nbformat": 4,
 "nbformat_minor": 5
}
