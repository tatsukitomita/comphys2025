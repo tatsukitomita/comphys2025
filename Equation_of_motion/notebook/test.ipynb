{
 "cells": [
  {
   "cell_type": "code",
   "execution_count": 1,
   "id": "d09670e1",
   "metadata": {},
   "outputs": [],
   "source": [
    "using Revise\n",
    "using Test"
   ]
  },
  {
   "cell_type": "code",
   "execution_count": 2,
   "id": "6cb7314a",
   "metadata": {},
   "outputs": [
    {
     "data": {
      "text/plain": [
       "0.01"
      ]
     },
     "metadata": {},
     "output_type": "display_data"
    }
   ],
   "source": [
    "tmax = 10.0\n",
    "numtimes = 1000\n",
    "h = tmax/numtimes"
   ]
  },
  {
   "cell_type": "code",
   "execution_count": 3,
   "id": "ed6c7914",
   "metadata": {},
   "outputs": [
    {
     "data": {
      "text/plain": [
       "solve_x (generic function with 1 method)"
      ]
     },
     "metadata": {},
     "output_type": "display_data"
    }
   ],
   "source": [
    "function solve_x(v, x, h)\n",
    "    x1 = x\n",
    "    x2 = x1 + h * v\n",
    "    return x2\n",
    "end"
   ]
  },
  {
   "cell_type": "code",
   "execution_count": 12,
   "id": "70eac451",
   "metadata": {},
   "outputs": [
    {
     "name": "stdout",
     "output_type": "stream",
     "text": [
      "\u001b[0m\u001b[1mTest Summary: | \u001b[22m\u001b[32m\u001b[1mPass  \u001b[22m\u001b[39m\u001b[36m\u001b[1mTotal  \u001b[22m\u001b[39m\u001b[0m\u001b[1mTime\u001b[22m\n",
      "solve_x_test  | \u001b[32m   2  \u001b[39m\u001b[36m    2  \u001b[39m\u001b[0m0.0s\n"
     ]
    },
    {
     "data": {
      "text/plain": [
       "Test.DefaultTestSet(\"solve_x_test\", Any[], 2, false, false, true, 1.750401051361797e9, 1.750401051361899e9, false, \"/Users/tomitatatsuki/workspace1/compphys2025/Equation_of_motion/notebook/jl_notebook_cell_df34fa98e69747e1a8f8a730347b8e2f_W3sZmlsZQ==.jl\")"
      ]
     },
     "metadata": {},
     "output_type": "display_data"
    }
   ],
   "source": [
    "@testset \"solve_x_test\" begin\n",
    "    v = 1.0\n",
    "    x = 0.0\n",
    "    tmax = 10.0\n",
    "    numtimes = 1000\n",
    "    @test solve_x(v, x, h) == 0.01\n",
    "    @test solve_x(v, x, h) ≈ 0.01 atol=1e-5\n",
    "end"
   ]
  },
  {
   "cell_type": "code",
   "execution_count": 5,
   "id": "e8cd1af3",
   "metadata": {},
   "outputs": [
    {
     "data": {
      "text/plain": [
       "solve_v (generic function with 1 method)"
      ]
     },
     "metadata": {},
     "output_type": "display_data"
    }
   ],
   "source": [
    "function solve_v(v, x, t, h, F::Function)\n",
    "   v1 = v\n",
    "   next_vt(h,x) = v1 + h * F(x,t)\n",
    "   v2 = next_vt(h,x)\n",
    "   return v2\n",
    "end"
   ]
  },
  {
   "cell_type": "code",
   "execution_count": 6,
   "id": "a170b3bc",
   "metadata": {},
   "outputs": [
    {
     "name": "stdout",
     "output_type": "stream",
     "text": [
      "\u001b[0m\u001b[1mTest Summary: | \u001b[22m\u001b[32m\u001b[1mPass  \u001b[22m\u001b[39m\u001b[36m\u001b[1mTotal  \u001b[22m\u001b[39m\u001b[0m\u001b[1mTime\u001b[22m\n",
      "solve_v_test  | \u001b[32m   1  \u001b[39m\u001b[36m    1  \u001b[39m\u001b[0m0.0s\n"
     ]
    },
    {
     "data": {
      "text/plain": [
       "Test.DefaultTestSet(\"solve_v_test\", Any[], 1, false, false, true, 1.750400587974662e9, 1.750400587976568e9, false, \"/Users/tomitatatsuki/workspace1/compphys2025/Equation_of_motion/notebook/jl_notebook_cell_df34fa98e69747e1a8f8a730347b8e2f_W5sZmlsZQ==.jl\")"
      ]
     },
     "metadata": {},
     "output_type": "display_data"
    }
   ],
   "source": [
    "@testset \"solve_v_test\" begin\n",
    "    v = 1.0\n",
    "    x = 1.0\n",
    "    t = h\n",
    "    F(x, t) = 2.0   # Example function for F\n",
    "    @test solve_v(v, x, t, h, F) == 1.02  \n",
    "end"
   ]
  },
  {
   "cell_type": "code",
   "execution_count": 7,
   "id": "ec2795b2",
   "metadata": {},
   "outputs": [
    {
     "data": {
      "text/plain": [
       "solve_system (generic function with 1 method)"
      ]
     },
     "metadata": {},
     "output_type": "display_data"
    }
   ],
   "source": [
    "function solve_system(v, x, tmax, numtimes, F::Function)\n",
    "    h = tmax/numtimes\n",
    "    x1 = x\n",
    "    v1 = v\n",
    "    t = h\n",
    "    for i in 1:numtimes\n",
    "        x2 = solve_x(v1, x1, h)\n",
    "        v2 = solve_v(v1, x2, t, h, F)\n",
    "        x1 = x2\n",
    "        v1 = v2\n",
    "        t += h\n",
    "    end\n",
    "    return (x1, v1)\n",
    "end"
   ]
  },
  {
   "cell_type": "code",
   "execution_count": 8,
   "id": "27b2cea2",
   "metadata": {},
   "outputs": [
    {
     "name": "stdout",
     "output_type": "stream",
     "text": [
      "\u001b[0m\u001b[1mTest Summary: | \u001b[22m\u001b[32m\u001b[1mPass  \u001b[22m\u001b[39m\u001b[36m\u001b[1mTotal  \u001b[22m\u001b[39m\u001b[0m\u001b[1mTime\u001b[22m\n",
      "位置と時間に依存しない場合 | \u001b[32m   2  \u001b[39m\u001b[36m    2  \u001b[39m\u001b[0m0.0s\n"
     ]
    },
    {
     "data": {
      "text/plain": [
       "Test.DefaultTestSet(\"位置と時間に依存しない場合\", Any[], 2, false, false, true, 1.75040058802394e9, 1.750400588035202e9, false, \"/Users/tomitatatsuki/workspace1/compphys2025/Equation_of_motion/notebook/jl_notebook_cell_df34fa98e69747e1a8f8a730347b8e2f_X10sZmlsZQ==.jl\")"
      ]
     },
     "metadata": {},
     "output_type": "display_data"
    }
   ],
   "source": [
    "@testset \"位置と時間に依存しない場合\" begin\n",
    "    F(x, t) = 2.0\n",
    "    x0, v0 = 0.0, 0.0\n",
    "    tmax, numtimes = 10.0, 10000\n",
    "    expected_x = x0 + v0 * tmax + 0.5 * 2.0 * tmax^2\n",
    "    expected_v = v0 + 2.0 * tmax\n",
    "\n",
    "     x, v = solve_system(v0, x0, tmax, numtimes, F)\n",
    "    @test x ≈ expected_x atol=1e-2\n",
    "    @test v ≈ expected_v atol=1e-3\n",
    "\n",
    "end"
   ]
  },
  {
   "cell_type": "code",
   "execution_count": 9,
   "id": "8fbf1c2a",
   "metadata": {},
   "outputs": [
    {
     "name": "stdout",
     "output_type": "stream",
     "text": [
      "Final x: 1.0000001033867316, Final v: 0.9999998966132629\n",
      "\u001b[0m\u001b[1mTest Summary:  | \u001b[22m\u001b[32m\u001b[1mPass  \u001b[22m\u001b[39m\u001b[36m\u001b[1mTotal  \u001b[22m\u001b[39m\u001b[0m\u001b[1mTime\u001b[22m\n",
      "位置に依存する場合(単振動) | \u001b[32m   2  \u001b[39m\u001b[36m    2  \u001b[39m\u001b[0m0.0s\n"
     ]
    },
    {
     "data": {
      "text/plain": [
       "Test.DefaultTestSet(\"位置に依存する場合(単振動)\", Any[], 2, false, false, true, 1.750400588053112e9, 1.750400588098524e9, false, \"/Users/tomitatatsuki/workspace1/compphys2025/Equation_of_motion/notebook/jl_notebook_cell_df34fa98e69747e1a8f8a730347b8e2f_X11sZmlsZQ==.jl\")"
      ]
     },
     "metadata": {},
     "output_type": "display_data"
    }
   ],
   "source": [
    "@testset \"位置に依存する場合(単振動)\" begin\n",
    "    k = 1.0\n",
    "    ω = 1.0\n",
    "    F(x, t) = - k * x\n",
    "    x0, v0 = 1.0, 1.0\n",
    "    tmax, numtimes = 2π, 10000\n",
    "    expected_x = 1.0 * cos(ω * tmax) + 1.0 * sin(ω * tmax)\n",
    "    expected_v = -1.0 * ω * sin(ω * tmax) + 1.0 * ω * cos(ω * tmax)\n",
    "    x, v = solve_system(v0, x0, tmax, numtimes, F)\n",
    "    @test x ≈ expected_x atol=1e-2\n",
    "    @test v ≈ expected_v atol=1e-3\n",
    "    println(\"Final x: $x, Final v: $v\")\n",
    "end"
   ]
  },
  {
   "cell_type": "code",
   "execution_count": 10,
   "id": "282cdc14",
   "metadata": {},
   "outputs": [
    {
     "name": "stdout",
     "output_type": "stream",
     "text": [
      "\u001b[0m\u001b[1mTest Summary: |\u001b[22m\u001b[0m\u001b[1mTime\u001b[22m\n",
      "位置と時間に依存する場合 | \u001b[36mNone  \u001b[39m\u001b[0m0.0s\n"
     ]
    },
    {
     "data": {
      "text/plain": [
       "Test.DefaultTestSet(\"位置と時間に依存する場合\", Any[], 0, false, false, true, 1.750400588113113e9, 1.750400588113124e9, false, \"/Users/tomitatatsuki/workspace1/compphys2025/Equation_of_motion/notebook/jl_notebook_cell_df34fa98e69747e1a8f8a730347b8e2f_X12sZmlsZQ==.jl\")"
      ]
     },
     "metadata": {},
     "output_type": "display_data"
    }
   ],
   "source": [
    "@testset \"位置と時間に依存する場合\" begin\n",
    "    \n",
    "\n",
    "end"
   ]
  },
  {
   "cell_type": "code",
   "execution_count": 11,
   "id": "68a773f3",
   "metadata": {},
   "outputs": [
    {
     "name": "stdout",
     "output_type": "stream",
     "text": [
      "Final x: 99.99000000000352, Final v: 19.999999999999794\n"
     ]
    }
   ],
   "source": [
    "#単振動\n",
    "F(x, t) = 2.0 \n",
    "x0, v0 = 0.0, 0.0\n",
    "tmax, numtimes = 10.0, 10000\n",
    "final_x, final_v = solve_system(v0, x0, tmax, numtimes, F)\n",
    "println(\"Final x: $final_x, Final v: $final_v\")"
   ]
  }
 ],
 "metadata": {
  "kernelspec": {
   "display_name": "Julia 1.10.4",
   "language": "julia",
   "name": "julia-1.10"
  },
  "language_info": {
   "file_extension": ".jl",
   "mimetype": "application/julia",
   "name": "julia",
   "version": "1.10.4"
  }
 },
 "nbformat": 4,
 "nbformat_minor": 5
}
